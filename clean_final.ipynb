{
 "cells": [
  {
   "cell_type": "code",
   "execution_count": 176,
   "metadata": {},
   "outputs": [],
   "source": [
    "import numpy as np\n",
    "import pandas as pd\n",
    "from datetime import datetime, timedelta"
   ]
  },
  {
   "cell_type": "code",
   "execution_count": 177,
   "metadata": {},
   "outputs": [],
   "source": [
    "raw_df = pd.read_csv('Data/Kindle.csv')"
   ]
  },
  {
   "cell_type": "markdown",
   "metadata": {},
   "source": [
    "# Cleaning Data"
   ]
  },
  {
   "cell_type": "code",
   "execution_count": 178,
   "metadata": {},
   "outputs": [],
   "source": [
    "#Loại bỏ dữ liệu trùng lặp\n",
    "raw_df.drop_duplicates(inplace= True)"
   ]
  },
  {
   "cell_type": "code",
   "execution_count": 179,
   "metadata": {},
   "outputs": [
    {
     "name": "stdout",
     "output_type": "stream",
     "text": [
      "<class 'pandas.core.frame.DataFrame'>\n",
      "RangeIndex: 564 entries, 0 to 563\n",
      "Data columns (total 52 columns):\n",
      " #   Column                         Non-Null Count  Dtype  \n",
      "---  ------                         --------------  -----  \n",
      " 0   post_id                        564 non-null    int64  \n",
      " 1   text                           564 non-null    object \n",
      " 2   post_text                      564 non-null    object \n",
      " 3   shared_text                    19 non-null     object \n",
      " 4   original_text                  0 non-null      float64\n",
      " 5   time                           564 non-null    object \n",
      " 6   timestamp                      564 non-null    int64  \n",
      " 7   image                          491 non-null    object \n",
      " 8   image_lowquality               564 non-null    object \n",
      " 9   images                         564 non-null    object \n",
      " 10  images_description             564 non-null    object \n",
      " 11  images_lowquality              564 non-null    object \n",
      " 12  images_lowquality_description  564 non-null    object \n",
      " 13  video                          49 non-null     object \n",
      " 14  video_duration_seconds         0 non-null      float64\n",
      " 15  video_height                   0 non-null      float64\n",
      " 16  video_id                       49 non-null     float64\n",
      " 17  video_quality                  0 non-null      float64\n",
      " 18  video_size_MB                  0 non-null      float64\n",
      " 19  video_thumbnail                49 non-null     object \n",
      " 20  video_watches                  0 non-null      float64\n",
      " 21  video_width                    0 non-null      float64\n",
      " 22  likes                          564 non-null    int64  \n",
      " 23  comments                       564 non-null    int64  \n",
      " 24  shares                         564 non-null    int64  \n",
      " 25  post_url                       564 non-null    object \n",
      " 26  link                           541 non-null    object \n",
      " 27  links                          564 non-null    object \n",
      " 28  user_id                        564 non-null    int64  \n",
      " 29  username                       564 non-null    object \n",
      " 30  user_url                       564 non-null    object \n",
      " 31  is_live                        564 non-null    bool   \n",
      " 32  factcheck                      0 non-null      float64\n",
      " 33  shared_post_id                 0 non-null      float64\n",
      " 34  shared_time                    0 non-null      float64\n",
      " 35  shared_user_id                 0 non-null      float64\n",
      " 36  shared_username                0 non-null      float64\n",
      " 37  shared_post_url                0 non-null      float64\n",
      " 38  available                      564 non-null    bool   \n",
      " 39  comments_full                  564 non-null    object \n",
      " 40  reactors                       564 non-null    object \n",
      " 41  w3_fb_url                      564 non-null    object \n",
      " 42  reactions                      564 non-null    object \n",
      " 43  reaction_count                 564 non-null    int64  \n",
      " 44  with                           0 non-null      float64\n",
      " 45  page_id                        564 non-null    int64  \n",
      " 46  sharers                        0 non-null      float64\n",
      " 47  image_id                       491 non-null    float64\n",
      " 48  image_ids                      564 non-null    object \n",
      " 49  was_live                       564 non-null    bool   \n",
      " 50  fetched_time                   564 non-null    object \n",
      " 51  start_url                      564 non-null    object \n",
      "dtypes: bool(3), float64(17), int64(8), object(24)\n",
      "memory usage: 217.7+ KB\n"
     ]
    }
   ],
   "source": [
    "#In ra thông tin dữ liệu của file Kindle.csv\n",
    "raw_df.info()"
   ]
  },
  {
   "cell_type": "code",
   "execution_count": 180,
   "metadata": {},
   "outputs": [
    {
     "data": {
      "text/plain": [
       "post_id                            0\n",
       "text                               0\n",
       "post_text                          0\n",
       "shared_text                      545\n",
       "original_text                    564\n",
       "time                               0\n",
       "timestamp                          0\n",
       "image                             73\n",
       "image_lowquality                   0\n",
       "images                             0\n",
       "images_description                 0\n",
       "images_lowquality                  0\n",
       "images_lowquality_description      0\n",
       "video                            515\n",
       "video_duration_seconds           564\n",
       "video_height                     564\n",
       "video_id                         515\n",
       "video_quality                    564\n",
       "video_size_MB                    564\n",
       "video_thumbnail                  515\n",
       "video_watches                    564\n",
       "video_width                      564\n",
       "likes                              0\n",
       "comments                           0\n",
       "shares                             0\n",
       "post_url                           0\n",
       "link                              23\n",
       "links                              0\n",
       "user_id                            0\n",
       "username                           0\n",
       "user_url                           0\n",
       "is_live                            0\n",
       "factcheck                        564\n",
       "shared_post_id                   564\n",
       "shared_time                      564\n",
       "shared_user_id                   564\n",
       "shared_username                  564\n",
       "shared_post_url                  564\n",
       "available                          0\n",
       "comments_full                      0\n",
       "reactors                           0\n",
       "w3_fb_url                          0\n",
       "reactions                          0\n",
       "reaction_count                     0\n",
       "with                             564\n",
       "page_id                            0\n",
       "sharers                          564\n",
       "image_id                          73\n",
       "image_ids                          0\n",
       "was_live                           0\n",
       "fetched_time                       0\n",
       "start_url                          0\n",
       "dtype: int64"
      ]
     },
     "execution_count": 180,
     "metadata": {},
     "output_type": "execute_result"
    }
   ],
   "source": [
    "#Đếm số lượng giá trị bị thiếu trong mỗi cột của dữ liệu\n",
    "raw_df.isnull().sum()"
   ]
  },
  {
   "cell_type": "markdown",
   "metadata": {},
   "source": [
    "Trong dữ liệu có nhiều cột chúng ta không có dự định phân tích hoặc bị thiếu dữ liệu quá nhiều nên không phân tích được, nên cần thực hiện bước tiền xử lý"
   ]
  },
  {
   "cell_type": "markdown",
   "metadata": {},
   "source": [
    "# Tiền xử lý"
   ]
  },
  {
   "cell_type": "code",
   "execution_count": 181,
   "metadata": {},
   "outputs": [
    {
     "data": {
      "text/plain": [
       "Index(['post_id', 'text', 'post_text', 'shared_text', 'original_text', 'time',\n",
       "       'timestamp', 'image', 'image_lowquality', 'images',\n",
       "       'images_description', 'images_lowquality',\n",
       "       'images_lowquality_description', 'video', 'video_duration_seconds',\n",
       "       'video_height', 'video_id', 'video_quality', 'video_size_MB',\n",
       "       'video_thumbnail', 'video_watches', 'video_width', 'likes', 'comments',\n",
       "       'shares', 'post_url', 'link', 'links', 'user_id', 'username',\n",
       "       'user_url', 'is_live', 'factcheck', 'shared_post_id', 'shared_time',\n",
       "       'shared_user_id', 'shared_username', 'shared_post_url', 'available',\n",
       "       'comments_full', 'reactors', 'w3_fb_url', 'reactions', 'reaction_count',\n",
       "       'with', 'page_id', 'sharers', 'image_id', 'image_ids', 'was_live',\n",
       "       'fetched_time', 'start_url'],\n",
       "      dtype='object')"
      ]
     },
     "execution_count": 181,
     "metadata": {},
     "output_type": "execute_result"
    }
   ],
   "source": [
    "clean_df = pd.DataFrame(raw_df)\n",
    "clean_df.columns"
   ]
  },
  {
   "cell_type": "code",
   "execution_count": 182,
   "metadata": {},
   "outputs": [],
   "source": [
    "# Loại bỏ các cột bị trùng lặp hoặc không sử dụng trong quá trình phân tích dữ liệu\n",
    "clean_df = clean_df.drop(['text','shared_text', 'original_text', 'image', 'image_lowquality',\n",
    "                         'images', 'images_description', 'images_lowquality',\n",
    "                         'images_lowquality_description', 'video', 'video_duration_seconds',\n",
    "                         'video_height', 'video_id', 'video_quality', 'video_size_MB',\n",
    "                         'video_thumbnail', 'video_watches', 'video_width', 'user_id', \n",
    "                         'link', 'links', 'username', 'user_url', 'is_live', 'factcheck', 'shared_post_id', \n",
    "                         'shared_time', 'shared_user_id', 'shared_username', 'shared_post_url', \n",
    "                         'available', 'w3_fb_url', 'with', 'page_id', 'sharers', 'image_id', \n",
    "                         'image_ids', 'was_live','start_url'], axis='columns')"
   ]
  },
  {
   "cell_type": "code",
   "execution_count": 183,
   "metadata": {},
   "outputs": [
    {
     "data": {
      "text/plain": [
       "Index(['post_id', 'post_text', 'time', 'timestamp', 'likes', 'comments',\n",
       "       'shares', 'post_url', 'comments_full', 'reactors', 'reactions',\n",
       "       'reaction_count', 'fetched_time'],\n",
       "      dtype='object')"
      ]
     },
     "execution_count": 183,
     "metadata": {},
     "output_type": "execute_result"
    }
   ],
   "source": [
    "#kiểm tra một lần nữa các cột dữ liệu còn lại để chắc chắn không loại bỏ nhầm dữ liệu.\n",
    "clean_df.columns"
   ]
  },
  {
   "cell_type": "code",
   "execution_count": 184,
   "metadata": {},
   "outputs": [],
   "source": [
    "#kiểm tra xem có bao nhiêu hàng trong cột \"comments_full\" chứa kí tự trống \"[]\" và xoá đi những hàng đó.\n",
    "count_empty_rows = (clean_df['comments_full'] == \"[]\").sum()\n",
    "clean_df = clean_df[clean_df['comments_full'] != \"[]\"]"
   ]
  },
  {
   "cell_type": "code",
   "execution_count": 185,
   "metadata": {},
   "outputs": [],
   "source": [
    "#kiểm tra xem có bao nhiêu post trùng nhau và xoá đi những post bị trùng đó.\n",
    "count_duplicate_rows = clean_df.duplicated('post_id').sum()\n",
    "clean_df = clean_df[~clean_df.duplicated('post_id')]"
   ]
  },
  {
   "cell_type": "markdown",
   "metadata": {},
   "source": [
    "chuyển đổi múi giờ sang giờ usa"
   ]
  },
  {
   "cell_type": "code",
   "execution_count": 186,
   "metadata": {},
   "outputs": [],
   "source": [
    "\n",
    "# Convert the time column from string to datetime\n",
    "clean_df['time'] = pd.to_datetime(clean_df['time'])\n",
    "\n",
    "# Define the time difference between GMT+7 and USA time (Eastern Standard Time, GMT-5)\n",
    "time_difference = timedelta(hours=-12)\n",
    "\n",
    "# Convert the time to USA time by adding the time difference\n",
    "clean_df['time'] = clean_df['time'] + time_difference\n"
   ]
  },
  {
   "cell_type": "code",
   "execution_count": 187,
   "metadata": {},
   "outputs": [
    {
     "data": {
      "text/plain": [
       "post_id           0\n",
       "post_text         0\n",
       "time              0\n",
       "timestamp         0\n",
       "likes             0\n",
       "comments          0\n",
       "shares            0\n",
       "post_url          0\n",
       "comments_full     0\n",
       "reactors          0\n",
       "reactions         0\n",
       "reaction_count    0\n",
       "fetched_time      0\n",
       "dtype: int64"
      ]
     },
     "execution_count": 187,
     "metadata": {},
     "output_type": "execute_result"
    }
   ],
   "source": [
    "#kiểm tra xem sau quá trình tiền xử lý, các cột dữ liệu có cột nào bị khuyết thiếu dữ liệu không? \n",
    "#nếu có phải thực hiện loại bỏ các hàng có dữ liệu bị thiếu đó.\n",
    "clean_df.isnull().sum()"
   ]
  },
  {
   "cell_type": "code",
   "execution_count": 188,
   "metadata": {},
   "outputs": [
    {
     "data": {
      "text/plain": [
       "(348, 13)"
      ]
     },
     "execution_count": 188,
     "metadata": {},
     "output_type": "execute_result"
    }
   ],
   "source": [
    "#xác định hình dạng của tập dữ liệu xem gồm bao nhiêu hàng, bao nhiêu cột\n",
    "clean_df.shape"
   ]
  },
  {
   "cell_type": "markdown",
   "metadata": {},
   "source": [
    "Sau quá trình tiền xử lý, dữ liệu đã cơ bản sạch sẽ "
   ]
  },
  {
   "cell_type": "markdown",
   "metadata": {},
   "source": [
    "# Làm sạch dữ liệu"
   ]
  },
  {
   "cell_type": "code",
   "execution_count": 189,
   "metadata": {},
   "outputs": [],
   "source": [
    "#Chuyển đổi \"chuỗi thời gian\" thành kiểu \"datetime\".\n",
    "clean_df['time'] = pd.to_datetime(clean_df['time'])\n",
    "clean_df['day'] = clean_df['time'].dt.day"
   ]
  },
  {
   "cell_type": "code",
   "execution_count": 190,
   "metadata": {},
   "outputs": [],
   "source": [
    "#Chuyển đổi mỗi phần tử trong reactions thành một từ điển.\n",
    "clean_df['reactions'] = clean_df['reactions'].apply(lambda x : dict(eval(x))) \n",
    "#Chuyển đổi từng loại reaction thành các cột Dataframe.\n",
    "list_reactions = clean_df['reactions'].apply(pd.Series) \n",
    "#thay thế mọi giá trị bị thiếu (NaN) trong \"list_reactions\" DataFrame bằng số 0.\n",
    "list_reactions = list_reactions.fillna(0)\n",
    "#kết hợp DataFrame gốc \"clean_df\" với \"list_reactions\" DataFrame và xóa cột reactions ban đầu.\n",
    "clean_df = pd.concat([clean_df, list_reactions], axis=1).drop('reactions', axis=1) "
   ]
  },
  {
   "cell_type": "markdown",
   "metadata": {},
   "source": [
    "# xuất file dữ liệu đã xử lý\n"
   ]
  },
  {
   "cell_type": "code",
   "execution_count": 191,
   "metadata": {},
   "outputs": [],
   "source": [
    "path = 'Data/Kindle_Cleaned.csv'\n",
    "clean_df.to_csv(path, index=False)"
   ]
  }
 ],
 "metadata": {
  "kernelspec": {
   "display_name": "Python 3 (ipykernel)",
   "language": "python",
   "name": "python3"
  },
  "language_info": {
   "codemirror_mode": {
    "name": "ipython",
    "version": 3
   },
   "file_extension": ".py",
   "mimetype": "text/x-python",
   "name": "python",
   "nbconvert_exporter": "python",
   "pygments_lexer": "ipython3",
   "version": "3.11.5"
  }
 },
 "nbformat": 4,
 "nbformat_minor": 4
}
