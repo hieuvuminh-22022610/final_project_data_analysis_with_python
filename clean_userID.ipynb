{
 "cells": [
  {
   "cell_type": "code",
   "execution_count": 1,
   "metadata": {},
   "outputs": [],
   "source": [
    "import numpy as np\n",
    "import pandas as pd"
   ]
  },
  {
   "cell_type": "code",
   "execution_count": 2,
   "metadata": {},
   "outputs": [],
   "source": [
    "raw_df = pd.read_csv('Data/userID.csv')"
   ]
  },
  {
   "cell_type": "markdown",
   "metadata": {},
   "source": [
    "# Cleaning Data"
   ]
  },
  {
   "cell_type": "code",
   "execution_count": 3,
   "metadata": {},
   "outputs": [],
   "source": [
    "#Loại bỏ dữ liệu trùng lặp\n",
    "raw_df.drop_duplicates(inplace= True)"
   ]
  },
  {
   "cell_type": "code",
   "execution_count": 4,
   "metadata": {},
   "outputs": [
    {
     "name": "stdout",
     "output_type": "stream",
     "text": [
      "<class 'pandas.core.frame.DataFrame'>\n",
      "RangeIndex: 760 entries, 0 to 759\n",
      "Data columns (total 10 columns):\n",
      " #   Column               Non-Null Count  Dtype  \n",
      "---  ------               --------------  -----  \n",
      " 0   Friend_count         0 non-null      float64\n",
      " 1   Follower_count       0 non-null      float64\n",
      " 2   Following_count      0 non-null      float64\n",
      " 3   cover_photo          635 non-null    object \n",
      " 4   profile_picture      757 non-null    object \n",
      " 5   id                   760 non-null    int64  \n",
      " 6   Name                 760 non-null    object \n",
      " 7   Học vấn              390 non-null    object \n",
      " 8   Nơi từng sống        516 non-null    object \n",
      " 9   Trích dẫn yêu thích  118 non-null    object \n",
      "dtypes: float64(3), int64(1), object(6)\n",
      "memory usage: 59.5+ KB\n"
     ]
    }
   ],
   "source": [
    "#In ra thông tin dữ liệu của file userID.csv\n",
    "raw_df.info()"
   ]
  },
  {
   "cell_type": "code",
   "execution_count": 5,
   "metadata": {},
   "outputs": [
    {
     "data": {
      "text/plain": [
       "Friend_count           760\n",
       "Follower_count         760\n",
       "Following_count        760\n",
       "cover_photo            125\n",
       "profile_picture          3\n",
       "id                       0\n",
       "Name                     0\n",
       "Học vấn                370\n",
       "Nơi từng sống          244\n",
       "Trích dẫn yêu thích    642\n",
       "dtype: int64"
      ]
     },
     "execution_count": 5,
     "metadata": {},
     "output_type": "execute_result"
    }
   ],
   "source": [
    "#Đếm số lượng giá trị bị thiếu trong mỗi cột của dữ liệu\n",
    "raw_df.isnull().sum()"
   ]
  },
  {
   "cell_type": "markdown",
   "metadata": {},
   "source": [
    "Trong dữ liệu có nhiều cột chúng ta không có dự định phân tích hoặc bị thiếu dữ liệu quá nhiều nên không phân tích được, nên cần thực hiện bước tiền xử lý"
   ]
  },
  {
   "cell_type": "markdown",
   "metadata": {},
   "source": [
    "# Tiền xử lý"
   ]
  },
  {
   "cell_type": "code",
   "execution_count": 6,
   "metadata": {},
   "outputs": [
    {
     "data": {
      "text/plain": [
       "Index(['Friend_count', 'Follower_count', 'Following_count', 'cover_photo',\n",
       "       'profile_picture', 'id', 'Name', 'Học vấn', 'Nơi từng sống',\n",
       "       'Trích dẫn yêu thích'],\n",
       "      dtype='object')"
      ]
     },
     "execution_count": 6,
     "metadata": {},
     "output_type": "execute_result"
    }
   ],
   "source": [
    "clean_df = pd.DataFrame(raw_df)\n",
    "clean_df.columns"
   ]
  },
  {
   "cell_type": "code",
   "execution_count": 7,
   "metadata": {},
   "outputs": [],
   "source": [
    "# Loại bỏ các cột bị trùng lặp hoặc không sử dụng trong quá trình phân tích dữ liệu\n",
    "clean_df = clean_df.drop(['Friend_count', 'Follower_count', 'Following_count','cover_photo',\n",
    "       'profile_picture'], axis='columns')"
   ]
  },
  {
   "cell_type": "code",
   "execution_count": 8,
   "metadata": {},
   "outputs": [
    {
     "data": {
      "text/plain": [
       "Index(['id', 'Name', 'Học vấn', 'Nơi từng sống', 'Trích dẫn yêu thích'], dtype='object')"
      ]
     },
     "execution_count": 8,
     "metadata": {},
     "output_type": "execute_result"
    }
   ],
   "source": [
    "#kiểm tra một lần nữa các cột dữ liệu còn lại để chắc chắn không loại bỏ nhầm dữ liệu.\n",
    "clean_df.columns"
   ]
  },
  {
   "cell_type": "code",
   "execution_count": 10,
   "metadata": {},
   "outputs": [],
   "source": [
    "#kiểm tra xem có bao nhiêu post trùng nhau và xoá đi những post bị trùng đó.\n",
    "count_duplicate_rows = clean_df.duplicated('id').sum()\n",
    "clean_df = clean_df[~clean_df.duplicated('id')]"
   ]
  },
  {
   "cell_type": "markdown",
   "metadata": {},
   "source": [
    "# xuất file userID.csv đã xử lý"
   ]
  },
  {
   "cell_type": "code",
   "execution_count": null,
   "metadata": {},
   "outputs": [],
   "source": [
    "path = 'Data/userID_Cleaned.csv'\n",
    "clean_df.to_csv(path, index=False)"
   ]
  }
 ],
 "metadata": {
  "kernelspec": {
   "display_name": "Python 3 (ipykernel)",
   "language": "python",
   "name": "python3"
  },
  "language_info": {
   "codemirror_mode": {
    "name": "ipython",
    "version": 3
   },
   "file_extension": ".py",
   "mimetype": "text/x-python",
   "name": "python",
   "nbconvert_exporter": "python",
   "pygments_lexer": "ipython3",
   "version": "3.11.5"
  }
 },
 "nbformat": 4,
 "nbformat_minor": 4
}
